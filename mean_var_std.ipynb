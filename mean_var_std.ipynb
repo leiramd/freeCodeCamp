{
 "cells": [
  {
   "cell_type": "code",
   "execution_count": 1,
   "id": "00c77cad",
   "metadata": {},
   "outputs": [],
   "source": [
    "import numpy as np\n",
    "\n",
    "def calculate(input_list):\n",
    "    if len(input_list) != 9:\n",
    "        raise ValueError(\"List must contain nine numbers.\")\n",
    "\n",
    "    # Convert the input list to a 3x3 Numpy array\n",
    "    matrix = np.array(input_list).reshape(3, 3)\n",
    "    \n",
    "    # Calculate statistics\n",
    "    calculations = {\n",
    "        'mean': [\n",
    "            np.mean(matrix, axis=0).tolist(), \n",
    "            np.mean(matrix, axis=1).tolist(), \n",
    "            np.mean(matrix).tolist()\n",
    "        ],\n",
    "        'variance': [\n",
    "            np.var(matrix, axis=0).tolist(), \n",
    "            np.var(matrix, axis=1).tolist(), \n",
    "            np.var(matrix).tolist()\n",
    "        ],\n",
    "        'standard deviation': [\n",
    "            np.std(matrix, axis=0).tolist(), \n",
    "            np.std(matrix, axis=1).tolist(), \n",
    "            np.std(matrix).tolist()\n",
    "        ],\n",
    "        'max': [\n",
    "            np.max(matrix, axis=0).tolist(), \n",
    "            np.max(matrix, axis=1).tolist(), \n",
    "            np.max(matrix).tolist()\n",
    "        ],\n",
    "        'min': [\n",
    "            np.min(matrix, axis=0).tolist(), \n",
    "            np.min(matrix, axis=1).tolist(), \n",
    "            np.min(matrix).tolist()\n",
    "        ],\n",
    "        'sum': [\n",
    "            np.sum(matrix, axis=0).tolist(), \n",
    "            np.sum(matrix, axis=1).tolist(), \n",
    "            np.sum(matrix).tolist()\n",
    "        ]\n",
    "    }\n",
    "        return calculations"
   ]
  },
  {
   "cell_type": "code",
   "execution_count": null,
   "id": "3041c53f",
   "metadata": {},
   "outputs": [],
   "source": []
  },
  {
   "cell_type": "code",
   "execution_count": null,
   "id": "2e59dc94",
   "metadata": {},
   "outputs": [],
   "source": []
  }
 ],
 "metadata": {
  "kernelspec": {
   "display_name": "Python 3 (ipykernel)",
   "language": "python",
   "name": "python3"
  },
  "language_info": {
   "codemirror_mode": {
    "name": "ipython",
    "version": 3
   },
   "file_extension": ".py",
   "mimetype": "text/x-python",
   "name": "python",
   "nbconvert_exporter": "python",
   "pygments_lexer": "ipython3",
   "version": "3.9.12"
  }
 },
 "nbformat": 4,
 "nbformat_minor": 5
}
